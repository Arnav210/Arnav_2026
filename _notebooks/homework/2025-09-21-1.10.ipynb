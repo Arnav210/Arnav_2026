{
 "cells": [
  {
   "cell_type": "raw",
   "id": "498ed049",
   "metadata": {
    "vscode": {
     "languageId": "raw"
    }
   },
   "source": [
    "---\n",
    "layout: post\n",
    "toc: true\n",
    "title: Calling Class Methods\n",
    "menu: nav/CSA_Nunits/csaunit1.html\n",
    "permalink: /csa/unit_01/1_10\n",
    "author: Trevor, Kush, Elliot, Aranya, Travis, Alex\n",
    "---"
   ]
  },
  {
   "cell_type": "markdown",
   "id": "e1e8d5e0",
   "metadata": {},
   "source": [
    "## What is a \"Class Method?\""
   ]
  },
  {
   "cell_type": "markdown",
   "id": "explanation_cell",
   "metadata": {},
   "source": [
    ">**A class method (or static method in Java) belongs to the class itself, not to any specific object.**\n",
    "\n",
    "*(You can call these methods directly using the class name, without needing to create an object first.)*\n",
    "\n",
    "Key characteristics of static methods:\n",
    "\n",
    "- They are declared with the `static` keyword.\n",
    "- They can be called using the syntax: `ClassName.methodName()`.\n",
    "- They cannot use instance variables or instance methods directly (because they don't carry the state of the object).\n",
    "- They are useful for utility functions or operations that are not tied to the state of a particular object."
   ]
  },
  {
   "cell_type": "markdown",
   "id": "example_title_cell",
   "metadata": {},
   "source": [
    "### Printer Example"
   ]
  },
  {
   "cell_type": "code",
   "execution_count": null,
   "id": "code_example_cell",
   "metadata": {
    "vscode": {
     "languageId": "java"
    }
   },
   "outputs": [],
   "source": [
    "class Printer {\n",
    "    // This IS a CLASS METHOD. It can be called WITHOUT creating an instance.\n",
    "    public static void print(String message) {\n",
    "        System.out.println(message);\n",
    "    }\n",
    "\n",
    "    // This is NOT a CLASS METHOD. You need an instance to call it.\n",
    "    public void explode() {\n",
    "        System.out.println(\"Boom\");\n",
    "    }\n",
    "}\n",
    "\n",
    "Printer.print(\"Hello, World!\"); // This will work!\n",
    "Printer.explode(); // This will NOT work!"
   ]
  },
  {
   "cell_type": "markdown",
   "id": "d56e6618",
   "metadata": {},
   "source": [
    "### Dude example"
   ]
  },
  {
   "cell_type": "code",
   "execution_count": null,
   "id": "bafc9591",
   "metadata": {
    "vscode": {
     "languageId": "java"
    }
   },
   "outputs": [],
   "source": [
    "class Dude {\n",
    "    String name;\n",
    "\n",
    "    public Dude(String name) {\n",
    "        this.name = name;\n",
    "    }\n",
    "\n",
    "    public static void SayName() {\n",
    "        System.out.println(\"My name is \" + name); // This will NOT work! cause name is an instance variable.\n",
    "    }\n",
    "}\n",
    "\n",
    "// This will not compile since sayAnotherName is a STATIC (CLASS) METHOD and cannot access the INSTANCE variable 'name'."
   ]
  },
  {
   "cell_type": "markdown",
   "id": "1634a795",
   "metadata": {},
   "source": [
    "### Bro example"
   ]
  },
  {
   "cell_type": "code",
   "execution_count": null,
   "id": "56f7808d",
   "metadata": {
    "vscode": {
     "languageId": "java"
    }
   },
   "outputs": [],
   "source": [
    "class Bro {\n",
    "    String name;\n",
    "    static String classicBroSaying = \"Sup bro?\";\n",
    "\n",
    "    public Bro(String name) {\n",
    "        this.name = name;\n",
    "    }\n",
    "\n",
    "    public void sayMyName() {\n",
    "        System.out.println(\"My name is \" + name); // This will work!\n",
    "    }\n",
    "\n",
    "    public static void sayClassicBroSaying() {\n",
    "        System.out.println(classicBroSaying); // This will work too!\n",
    "    }\n",
    "}\n",
    "\n",
    "Bro kush = new Bro(\"kush\");\n",
    "kush.sayMyName(); // This will work!\n",
    "\n",
    "Bro.sayClassicBroSaying(); // This will work! because the classicBroSaying variable is STATIC.\n",
    "Bro.sayMyName(); // This will NOT work! because sayMyName is NOT a STATIC method."
   ]
  },
  {
   "cell_type": "markdown",
   "metadata": {},
   "source": [
    "## Popcorn Hack: Which is an instance method or static method\n",
    "\n",
    "### What to do\n",
    "You’ve learned that **static methods** belong to the *class* and **instance methods** belong to the *object*.\n",
    "\n",
    "Look at the code below and decide which lines will work — and which will cause an error.  \n",
    "Then fix the wrong ones."
   ]
  },
  {
   "cell_type": "code",
   "execution_count": null,
   "metadata": {
    "vscode": {
     "languageId": "java"
    }
   },
   "outputs": [],
   "source": [
    "class Bro {\n",
    "    String name;\n",
    "    static String catchphrase = \"Sup bro?\";\n",
    "\n",
    "    public Bro(String name) {\n",
    "        this.name = name;\n",
    "    }\n",
    "\n",
    "    public void sayHi() {\n",
    "        System.out.println(\"Hey, I'm \" + name);\n",
    "    }\n",
    "\n",
    "    public static void sayCatchphrase() {\n",
    "        System.out.println(catchphrase);\n",
    "    }\n",
    "}\n",
    "\n",
    "public class Main {\n",
    "    public static void main(String[] args) {\n",
    "        Bro.sayHi(); // ??\n",
    "        Bro.sayCatchphrase(); // ??\n",
    "        \n",
    "        Bro alex = new Bro(\"Alex\");\n",
    "        alex.sayHi(); // ??\n",
    "        alex.sayCatchphrase(); // ??\n",
    "    }\n",
    "}"
   ]
  },
  {
   "cell_type": "markdown",
   "id": "85d597df",
   "metadata": {},
   "source": [
    "### Chart for the Bro Example\n",
    "\n",
    "|                   | Static Variable      | Non-Static Variable   |\n",
    "|-------------------|-------------|---------------|\n",
    "| **In static (Class) method**   | ✅ Can use  | ❌ Cannot use |\n",
    "| **In instance method** | ✅ Can use  | ✅ Can use    |"
   ]
  },
  {
   "cell_type": "markdown",
   "id": "4dae9cad",
   "metadata": {},
   "source": [
    "## Homework Hacks - Calling class methods"
   ]
  },
  {
   "cell_type": "markdown",
   "metadata": {},
   "source": [
    "## Part 1 — Fix the Bro Code\n",
    "\n",
    "### Instructions\n",
    "The `Bro` class has both static and instance methods.  \n",
    "Your job: fix the code so it runs without errors and prints correctly.\n",
    "\n",
    "**Steps:**\n",
    "1. Read the code below.  \n",
    "2. Identify which lines cause errors and why.  \n",
    "3. Fix the broken lines so it prints:\n",
    "```\n",
    "My name is Kush\n",
    "Sup bro?\n",
    "```\n",
    "\n",
    "**Hint:**  \n",
    "- You can call a static method using the class name.  \n",
    "- You can call a non-static (instance) method only with an object."
   ]
  },
  {
   "cell_type": "code",
   "execution_count": null,
   "metadata": {
    "vscode": {
     "languageId": "java"
    }
   },
   "outputs": [],
   "source": [
    "class Bro {\n",
    "    String name;\n",
    "    static String classicBroSaying = \"Sup bro?\";\n",
    "\n",
    "    public Bro(String name) {\n",
    "        this.name = name;\n",
    "    }\n",
    "\n",
    "    public void sayMyName() {\n",
    "        System.out.println(\"My name is \" + name);\n",
    "    }\n",
    "\n",
    "    public static void sayClassicBroSaying() {\n",
    "        System.out.println(classicBroSaying);\n",
    "    }\n",
    "}\n",
    "\n",
    "public class Main {\n",
    "    public static void main(String[] args) {\n",
    "        // TODO: Fix these method calls\n",
    "        Bro.sayMyName(); // won't work\n",
    "        Bro.sayClassicBroSaying(); // works\n",
    "\n",
    "        Bro kush = new Bro(\"Kush\");\n",
    "        // TODO: Add the correct calls here\n",
    "    }\n",
    "}"
   ]
  },
  {
   "cell_type": "markdown",
   "metadata": {},
   "source": [
    "## Homework Hack: Bro Methods & Static Power (Part 2)\n",
    "\n",
    "### Instructions\n",
    "In the lesson, you learned that **static methods and variables belong to the class**, not any single object.  \n",
    "Let’s put that to the test by building a **Bro Club** that keeps track of how many Bros exist — using static features to share information across all Bros.\n",
    "\n",
    "**Your goal:**  \n",
    "Use a static variable and static methods to manage the club’s membership.\n",
    "\n",
    "**Steps:**\n",
    "1. Add a static variable in `BroClub` to count how many Bros have joined.  \n",
    "2. Add a static method to register a Bro (increase the count).  \n",
    "3. Add another static method to display how many total Bros are in the club.  \n",
    "4. Modify the `Bro` constructor so each new Bro automatically registers in the club.  \n",
    "5. In `main()`, create multiple Bros and print the total.\n",
    "\n",
    "**Hint:**  \n",
    "Remember — static variables and methods are called with the class name, not the object.  \n",
    "Example:  \n",
    "`BroClub.showTotalBros();`"
   ]
  },
  {
   "cell_type": "code",
   "execution_count": 1,
   "metadata": {
    "vscode": {
     "languageId": "java"
    }
   },
   "outputs": [],
   "source": [
    "class Bro {\n",
    "    String name;\n",
    "\n",
    "    public Bro(String name) {\n",
    "        this.name = name;\n",
    "        // TODO: Register this Bro in the club using a static method\n",
    "    }\n",
    "\n",
    "    public void sayMyName() {\n",
    "        System.out.println(\"Yo, I'm \" + name);\n",
    "    }\n",
    "}\n",
    "\n",
    "class BroClub {\n",
    "    // TODO: Add a static variable to count total Bros\n",
    "    // TODO: Add a static method to register a Bro\n",
    "    // TODO: Add a static method to show total Bros\n",
    "}\n",
    "\n",
    "public class Main {\n",
    "    public static void main(String[] args) {\n",
    "        // TODO: Create at least two Bros\n",
    "        // TODO: Use the static method to display the total Bros\n",
    "    }\n",
    "}"
   ]
  },
  {
   "cell_type": "markdown",
   "metadata": {},
   "source": [
    "## REMEMBER\n",
    "### Why It Connects to the Lesson\n",
    "This exercise SHOULD help you see the difference between **calling methods from the class** (static) and **calling methods from an object** (instance).  \n",
    "You’ll understand why one of these lines causes an error — and how to fix it by using the correct call style."
   ]
  }
 ],
 "metadata": {
  "kernelspec": {
   "display_name": "java (JJava/j!)",
   "language": "java",
   "name": "jbang-jjava"
  },
  "language_info": {
   "codemirror_mode": "java",
   "file_extension": ".jshell",
   "mimetype": "text/x-java-source",
   "name": "Java",
   "pygments_lexer": "java",
   "version": "17.0.16+8"
  }
 },
 "nbformat": 4,
 "nbformat_minor": 5
}
