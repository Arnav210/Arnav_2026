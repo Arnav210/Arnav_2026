{
 "cells": [
  {
   "cell_type": "raw",
   "id": "354709c5",
   "metadata": {
    "vscode": {
     "languageId": "raw"
    }
   },
   "source": [
    "---\n",
    "layout: post\n",
    "toc: true\n",
    "title: Object Creation and Storage (Instantiation)\n",
    "permalink: /csa/unit_01/1_13/homework\n",
    "authors: Nora, Soni, Avika\n",
    "---"
   ]
  },
  {
   "cell_type": "code",
   "execution_count": 6,
   "id": "4fa4bd60",
   "metadata": {
    "vscode": {
     "languageId": "java"
    }
   },
   "outputs": [
    {
     "name": "stdout",
     "output_type": "stream",
     "text": [
      "Tesla (2024)\n",
      "Toyota (2020)\n"
     ]
    }
   ],
   "source": [
    "// Homework Hack #1: Object Creation Practice\n",
    "\n",
    "public class ObjectCreation {\n",
    "    public static void main(String[] args) {\n",
    "        // 1. Create two Car objects using 'new'\n",
    "        // Example: Car car1 = new Car(\"Tesla\", 2024);\n",
    "        Car car1 = new Car(\"Tesla\", 2024);\n",
    "        Car car2 = new Car(\"Toyota\", 2020);\n",
    "\n",
    "        // 2. Print each car's info\n",
    "        // Example: System.out.println(car1);\n",
    "        System.out.println(car1);\n",
    "        System.out.println(car2);\n",
    "    }\n",
    "}\n",
    "\n",
    "class Car {\n",
    "    // 1. Declare variables: brand, year\n",
    "    String brand;\n",
    "    int year;\n",
    "\n",
    "    // 2. Create a constructor to set those variables\n",
    "    Car(String b, int y) {\n",
    "        brand = b;\n",
    "        year = y;\n",
    "    }\n",
    "\n",
    "    // 3. Add a method or toString() to display car info\n",
    "    public String toString() {\n",
    "        return brand + \" (\" + year + \")\";\n",
    "    }\n",
    "}\n",
    "\n",
    "ObjectCreation.main(null);\n"
   ]
  },
  {
   "cell_type": "markdown",
   "id": "5dfeb6ec",
   "metadata": {},
   "source": [
    "## Homework Hack #2 — Heap vs Stack Storage Demo\n",
    "\n",
    "**Goal** - Understand where data is stored in memory — stack vs heap.\n",
    "<br>\n",
    "Instructions:\n",
    "- Create a Book class with one variable: String title.\n",
    "- In main(), create:\n",
    "- A primitive variable (e.g. int pages = 300;)\n",
    "- A Book object (e.g. Book b1 = new Book(\"Java Basics\");)\n",
    "- Copy both into new variables (int pagesCopy = pages;, Book b2 = b1;)\n",
    "<br>\n",
    "Change the original values and print everything — watch what changes."
   ]
  },
  {
   "cell_type": "code",
   "execution_count": 7,
   "id": "87b5929f",
   "metadata": {
    "vscode": {
     "languageId": "java"
    }
   },
   "outputs": [
    {
     "name": "stdout",
     "output_type": "stream",
     "text": [
      "pages: 500\n",
      "pagesCopy: 300\n",
      "b1: Advanced Java\n",
      "b2: Advanced Java\n"
     ]
    }
   ],
   "source": [
    "// Homework Hack #2: Heap vs Stack Storage Demo\n",
    "\n",
    "public class HeapVsStack {\n",
    "    public static void main(String[] args) {\n",
    "        // 1. Create a primitive variable (int pages)\n",
    "        int pages = 300;\n",
    "\n",
    "        // 2. Create another primitive variable that copies it\n",
    "        int pagesCopy = pages;\n",
    "\n",
    "        // 3. Create a Book object (Book b1 = new Book(\"Java Basics\");)\n",
    "        Book b1 = new Book(\"Java Basics\");\n",
    "\n",
    "        // 4. Create another Book reference (Book b2 = b1;)\n",
    "        Book b2 = b1;\n",
    "\n",
    "        // 5. Change the original primitive and the Book title\n",
    "        pages = 500;\n",
    "        b1.title = \"Advanced Java\";\n",
    "\n",
    "        // 6. Print both sets of values to compare behavior\n",
    "        System.out.println(\"pages: \" + pages);\n",
    "        System.out.println(\"pagesCopy: \" + pagesCopy);\n",
    "        System.out.println(\"b1: \" + b1);\n",
    "        System.out.println(\"b2: \" + b2);\n",
    "    }\n",
    "}\n",
    "\n",
    "class Book {\n",
    "    // 1. Declare variable: String title\n",
    "    String title;\n",
    "\n",
    "    // 2. Create a constructor to set the title\n",
    "    Book(String t) {\n",
    "        title = t;\n",
    "    }\n",
    "\n",
    "    // 3. Create a toString() to show the title\n",
    "    public String toString() {\n",
    "        return title;\n",
    "    }\n",
    "}\n",
    "\n",
    "HeapVsStack.main(null);\n"
   ]
  }
 ],
 "metadata": {
  "kernelspec": {
   "display_name": "venv (3.12.5)",
   "language": "python",
   "name": "python3"
  },
  "language_info": {
   "codemirror_mode": {
    "name": "ipython",
    "version": 3
   },
   "file_extension": ".py",
   "mimetype": "text/x-python",
   "name": "python",
   "nbconvert_exporter": "python",
   "pygments_lexer": "ipython3",
   "version": "3.12.5"
  }
 },
 "nbformat": 4,
 "nbformat_minor": 5
}
