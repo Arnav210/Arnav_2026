{
  "cells": [
    {
      "cell_type": "markdown",
      "metadata": {},
      "source": [
        "---\n",
        "layout: post\n",
        "toc: true\n",
        "title: Method Signatures — Homework (1.9)\n",
        "menu: nav/CSA_Nunits/csaunit1.html\n",
        "permalink: /csa/unit_01/1_9_hw\n",
        "author: Aashray, Sai, Manas\n",
        "---\n"
      ]
    },
    {
      "cell_type": "markdown",
      "metadata": {},
      "source": [
        "## AP CSA 1.9 — Method Signatures: Homework\n",
        "\n",
        "Complete all parts. Submit this executed notebook on GitHub Pages and answer MCQs on the Google Form.\n"
      ]
    },
    {
      "cell_type": "markdown",
      "metadata": {},
      "source": [
        "### MCQs\n",
        "1) Which pair is a valid overload?\n",
        "- A) `int f(int a)` and `int f(int x)`\n",
        "- B) `int f(int a)` and `double f(int a)`\n",
        "- C) `int f(int a)` and `double f(double a)`\n",
        "- D) `int f(int a, int b)` and `int f(int a, int b)`\n",
        "\n",
        "### My Answer: C\n",
        "\n",
        "2) Which is the AP CSA notion of a method signature?\n",
        "- A) `public static int max(int a, int b)`\n",
        "- B) `max(int, int)`\n",
        "- C) `max(int a, int b) throws Exception`\n",
        "- D) `max(int, double)`\n",
        "\n",
        "### My Answer: B\n",
        "\n",
        "3) With the overloads `void p(int x)` and `void p(double x)`, what prints?\n",
        "```java\n",
        "p(5);\n",
        "p(5.0);\n",
        "```\n",
        "- A) `int`, `double`\n",
        "- B) `double`, `double`\n",
        "- C) `int`, `int`\n",
        "- D) Compile error\n",
        "\n",
        "### My Answer: A\n",
        "\n",
        "4) Which call is ambiguous with only these two methods?\n",
        "```java\n",
        "void h(long x) {}\n",
        "void h(float x) {}\n",
        "```\n",
        "- A) `h(5)`\n",
        "- B) `h(5.0)`\n",
        "- C) `h(5f)`\n",
        "- D) None are ambiguous\n",
        "\n",
        "### My Answer: A\n",
        "\n",
        "5) Which statement is TRUE?\n",
        "- A) Parameter names affect the method signature.\n",
        "- B) Return type affects the method signature.\n",
        "- C) Access modifiers affect the method signature.\n",
        "- D) Overloading requires different parameter lists.\n",
        "\n",
        "### My Answer: D"
      ]
    },
    {
      "cell_type": "markdown",
      "metadata": {},
      "source": [
        "### Short answer\n",
        "- Explain why `int sum(int a, int b)` and `double sum(int a, int b)` cannot both exist.\n",
        "- In one sentence, distinguish parameters vs arguments.\n"
      ]
    },
    {
      "cell_type": "markdown",
      "metadata": {},
      "source": [
        "### My Answers:\n",
        "\n",
        "Both of these sum methods cannot exist because they have the same method signature and therefore Java cannot differentiate between them when one of them is called.\n",
        "\n",
        "Parameters are essentially variables that the method requires / asks for and arguments are the variables that are given to it in response."
      ]
    },
    {
      "cell_type": "markdown",
      "metadata": {},
      "source": [
        "### Coding Tasks (write Java in code blocks; pseudo-Java acceptable)\n",
        "1) Write three overloads of `abs`: `int abs(int x)`, `double abs(double x)`, and `long abs(long x)`.\n",
        "2) Implement two overloads of `concat`:\n",
        "   - `String concat(String a, String b)` returns concatenation.\n",
        "   - `String concat(String a, int n)` returns `a` repeated `n` times.\n",
        "3) Determine output:\n",
        "```java\n",
        "static void show(int x) { System.out.println(\"int\"); }\n",
        "static void show(double x) { System.out.println(\"double\"); }\n",
        "static void show(long x) { System.out.println(\"long\"); }\n",
        "\n",
        "show(7);\n",
        "show(7L);\n",
        "show(7.0);\n",
        "```\n",
        "Write the expected output and a one-line explanation for each.\n"
      ]
    },
    {
      "cell_type": "code",
      "execution_count": 4,
      "metadata": {},
      "outputs": [
        {
          "name": "stdout",
          "output_type": "stream",
          "text": [
            "int\n",
            "long\n",
            "double\n"
          ]
        }
      ],
      "source": [
        "public class codingTasks {\n",
        "    static int abs(int x) {\n",
        "        if (x > 0) {\n",
        "            return x;\n",
        "        } else {\n",
        "            return -x;\n",
        "        }\n",
        "    }\n",
        "\n",
        "    static double abs(double x) {\n",
        "        if (x > 0) {\n",
        "            return x;\n",
        "        } else {\n",
        "            return -x;\n",
        "        }\n",
        "    }\n",
        "\n",
        "    static long abs(long x) {\n",
        "        if (x > 0) {\n",
        "            return x;\n",
        "        } else {\n",
        "            return -x;\n",
        "        }\n",
        "    }\n",
        "\n",
        "    static void show(int x) { System.out.println(\"int\"); }\n",
        "    static void show(double x) { System.out.println(\"double\"); }\n",
        "    static void show(long x) { System.out.println(\"long\"); }\n",
        "\n",
        "    public static void main(String[] args) {\n",
        "        show(7);    // prints \"int\"\n",
        "        show(7L);   // prints \"long\"\n",
        "        show(7.0);  // prints \"double\"\n",
        "    }\n",
        "}\n",
        "\n",
        "codingTasks.main(new String[]{})"
      ]
    },
    {
      "cell_type": "markdown",
      "metadata": {},
      "source": [
        "### FRQ-style\n",
        "- FRQ 1. `indexOf(char target, String s)`: return the index of first `target` in `s` or `-1` if not found. Overload with `indexOf(String target, String s)` for first substring occurrence (without using library indexOf). State assumptions and constraints.\n",
        "- FRQ 2. Overload `clamp`:\n",
        "  - `int clamp(int value, int low, int high)` returns `value` confined to `[low, high]`.\n",
        "  - `double clamp(double value, double low, double high)` similarly for doubles.\n",
        "  Handle the case `low > high` by swapping.\n"
      ]
    },
    {
      "cell_type": "code",
      "execution_count": 7,
      "metadata": {},
      "outputs": [
        {
          "name": "stdout",
          "output_type": "stream",
          "text": [
            "1\n",
            "1\n",
            "15\n",
            "20.0\n",
            "10\n"
          ]
        }
      ],
      "source": [
        "public class FRQTasks {\n",
        "    static int indexOf(char target, String s) {\n",
        "        for (int i = 0; i < s.length(); i++) {\n",
        "            if (s.charAt(i) == target) return i;\n",
        "        }\n",
        "        return -1;\n",
        "    }\n",
        "\n",
        "    static int indexOf(String target, String s) {\n",
        "        for (int i = 0; i <= s.length() - target.length(); i++) {\n",
        "            int j = 0;\n",
        "            while (j < target.length() && s.charAt(i + j) == target.charAt(j)) j++;\n",
        "            if (j == target.length()) return i;\n",
        "        }\n",
        "        return -1;\n",
        "    }\n",
        "\n",
        "    static int clamp(int value, int low, int high) {\n",
        "        if (low > high) {\n",
        "            int t = low;\n",
        "            low = high;\n",
        "            high = t;\n",
        "        }\n",
        "        if (value < low) return low;\n",
        "        if (value > high) return high;\n",
        "        return value;\n",
        "    }\n",
        "\n",
        "    static double clamp(double value, double low, double high) {\n",
        "        if (low > high) {\n",
        "            double t = low;\n",
        "            low = high;\n",
        "            high = t;\n",
        "        }\n",
        "        if (value < low) return low;\n",
        "        if (value > high) return high;\n",
        "        return value;\n",
        "    }\n",
        "\n",
        "    public static void main(String[] args) {\n",
        "        System.out.println(indexOf('a', \"banana\"));\n",
        "        System.out.println(indexOf(\"ana\", \"banana\"));\n",
        "        System.out.println(clamp(15, 10, 20));\n",
        "        System.out.println(clamp(25.5, 10.0, 20.0));\n",
        "        System.out.println(clamp(5, 20, 10));\n",
        "    }\n",
        "}\n",
        "\n",
        "FRQTasks.main(new String[]{})"
      ]
    },
    {
      "cell_type": "markdown",
      "metadata": {},
      "source": [
        "### Submission checklist\n",
        "- MCQs completed on the Google Form.\n",
        "- This notebook executes top-to-bottom with outputs visible.\n",
        "- Answers are clear and concise.\n"
      ]
    }
  ],
  "metadata": {
    "kernelspec": {
      "display_name": "java (JJava/j!)",
      "language": "java",
      "name": "jbang-jjava"
    },
    "language_info": {
      "codemirror_mode": "java",
      "file_extension": ".jshell",
      "mimetype": "text/x-java-source",
      "name": "java",
      "pygments_lexer": "java",
      "version": "17.0.16+8-Ubuntu-0ubuntu124.04.1"
    }
  },
  "nbformat": 4,
  "nbformat_minor": 2
}
