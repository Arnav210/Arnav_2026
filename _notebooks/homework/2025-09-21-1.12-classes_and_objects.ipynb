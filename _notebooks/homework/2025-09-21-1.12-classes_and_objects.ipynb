{
  "cells": [
    {
      "cell_type": "raw",
      "id": "c40f7c2e",
      "metadata": {
        "vscode": {
          "languageId": "raw"
        }
      },
      "source": [
        "---\n",
        "layout: post\n",
        "toc: true\n",
        "title: Classes & Objects\n",
        "menu: nav/CSA_Nunits/csaunit1.html\n",
        "permalink: /csa/unit_01/1_12\n",
        "author: Kush, Trevor, Elliot, Aranya, Travis, Alex\n",
        "---"
      ]
    },
    {
      "cell_type": "markdown",
      "metadata": {},
      "source": [
        "# AP CSA: Classes & Objects\n",
        "\n",
        "**Goal:** Understand the relationship between classes and objects, how reference variables work, and that all Java classes ultimately extend `Object`.\n"
      ]
    },
    {
      "cell_type": "markdown",
      "metadata": {},
      "source": [
        "## 1) Class vs. Object\n",
        "**Class** = blueprint or template.  **Object** = one specific instance built from that blueprint."
      ]
    },
    {
      "cell_type": "markdown",
      "metadata": {},
      "source": [
        "### Description\n",
        "A class defines **attributes** (instance variables) and **behaviors** (methods). Creating an object with `new` allocates memory and returns a **reference** to that object."
      ]
    },
    {
      "cell_type": "code",
      "execution_count": 1,
      "metadata": {
        "language": "java",
        "vscode": {
          "languageId": "java"
        }
      },
      "outputs": [],
      "source": [
        "// Example: simple class + object\n",
        "class Dog {\n",
        "    String name;\n",
        "    int age;\n",
        "    void bark() {\n",
        "        System.out.println(name + \" says woof!\");\n",
        "    }\n",
        "}\n",
        "\n",
        "class Main1 {\n",
        "    public static void main(String[] args) {\n",
        "        Dog myDog = new Dog();   // object created\n",
        "        myDog.name = \"Alo\";\n",
        "        myDog.age = 3;\n",
        "        myDog.bark();\n",
        "    }\n",
        "}\n"
      ]
    },
    {
      "cell_type": "markdown",
      "metadata": {},
      "source": [
        "## 2) Reference Variables\n",
        "Variables of reference type store the **address (reference)** of an object, not the object itself."
      ]
    },
    {
      "cell_type": "markdown",
      "metadata": {},
      "source": [
        "### Description\n",
        "Two variables can reference the **same** object. Assigning one reference to another does **not** make a copy of the object. They both will point to the same thing."
      ]
    },
    {
      "cell_type": "code",
      "execution_count": 5,
      "metadata": {
        "language": "java",
        "vscode": {
          "languageId": "java"
        }
      },
      "outputs": [
        {
          "name": "stdout",
          "output_type": "stream",
          "text": [
            "Kairo\n"
          ]
        }
      ],
      "source": [
        "// Example: references point to the same object\n",
        "class Main2 {\n",
        "    public static void main(String[] args) {\n",
        "        Dog d1 = new Dog();\n",
        "        d1.name = \"Kai\";\n",
        "        \n",
        "        Dog d2 = d1;           // both refer to the same Dog\n",
        "        d2.name = \"Kairo\";     // changes seen via d1 too\n",
        "        \n",
        "        System.out.println(d1.name); // prints Kairo\n",
        "    }\n",
        "}\n",
        "\n",
        "Main2.main(new String[]{});"
      ]
    },
    {
      "cell_type": "markdown",
      "id": "2c247267",
      "metadata": {},
      "source": [
        "**Key Point**: When Phone p2 = p1;, a second variable is created that points to the same phone object. Changes through one variable affect the other as well."
      ]
    },
    {
      "cell_type": "markdown",
      "metadata": {},
      "source": [
        "## 3) All Classes Are Subclasses of `Object`\n",
        "`Object` is Java's ultimate superclass. Every class directly or indirectly extends it."
      ]
    },
    {
      "cell_type": "markdown",
      "metadata": {},
      "source": [
        "### Description\n",
        "Because of this, every object has methods like `toString()`, `equals(Object)`, and `getClass()` automatically (even if they weren't programmed)."
      ]
    },
    {
      "cell_type": "code",
      "execution_count": null,
      "metadata": {
        "language": "java",
        "vscode": {
          "languageId": "java"
        }
      },
      "outputs": [],
      "source": [
        "// Example: methods from Object\n",
        "class Main3 {\n",
        "    public static void main(String[] args) {\n",
        "        Dog x = new Dog();\n",
        "        System.out.println(x.getClass().getName()); // prints class name\n",
        "        System.out.println(x.toString());           // default toString from Object\n",
        "        System.out.println(x instanceof Object);    // true\n",
        "    }\n",
        "}\n"
      ]
    },
    {
      "cell_type": "markdown",
      "id": "f48872b6",
      "metadata": {},
      "source": [
        "**Key Point**: All Java objects inherit from Object, so they all have these built-in methods available."
      ]
    },
    {
      "cell_type": "markdown",
      "metadata": {},
      "source": [
        "## 🍿 Popcorn Hack (one cell)\n",
        "**Task:** Complete the code below.\n",
        "\n",
        "1. Finish the `Book` class by adding a `printInfo()` method that prints title and pages.\n",
        "2. In `Main`, create **one** `Book` object, set its fields, and call `printInfo()`.\n",
        "\n",
        "> Keep it short—this is a quick check that you can define a class and create an instance."
      ]
    },
    {
      "cell_type": "code",
      "execution_count": 16,
      "metadata": {
        "language": "java",
        "vscode": {
          "languageId": "java"
        }
      },
      "outputs": [
        {
          "name": "stdout",
          "output_type": "stream",
          "text": [
            "Title: Example Book\n",
            "Pages: 439\n"
          ]
        }
      ],
      "source": [
        "// TODO: Finish and run in your Java environment\n",
        "class Book {\n",
        "    String title;\n",
        "    int pages;\n",
        "    \n",
        "    public Book(String title, int pages) {\n",
        "        this.title = title;\n",
        "        this.pages = pages;\n",
        "    }\n",
        "\n",
        "    // TODO: write printInfo() to show: Title: <title>, Pages: <pages>\n",
        "    public void printInfo() {\n",
        "        System.out.println(\"Title: \" + title);\n",
        "        System.out.println(\"Pages: \" + pages);\n",
        "    }\n",
        "}\n",
        "\n",
        "class MainPopcorn {\n",
        "    public static void main(String[] args) {\n",
        "        // TODO: make one Book, set its fields, and call printInfo()\n",
        "        Book myBook = new Book(\"Example Book\", 439);\n",
        "        myBook.printInfo();\n",
        "    }\n",
        "}\n",
        "\n",
        "MainPopcorn.main(new String[]{});"
      ]
    },
    {
      "cell_type": "markdown",
      "metadata": {},
      "source": [
        "## Quick Self-Check (concepts)\n",
        "1. In one sentence, explain **class vs. object**.\n",
        "2. What does a **reference variable** store?\n",
        "3. Name one method every object has because it extends **`Object`**."
      ]
    },
    {
      "cell_type": "markdown",
      "id": "58a63ba4",
      "metadata": {},
      "source": [
        "1. A class is essentially an outline that defines 'requirements' / instance variables and methods while an object is one instance of that outline. For example, a class could define the parts of a student like their id and courses, and an object would be one student.\n",
        "\n",
        "2. A reference variable stores the address of the variable that it is referencing. Because of that, changes made to the reference will also affect the initial.\n",
        "\n",
        "3. toString()"
      ]
    }
  ],
  "metadata": {
    "kernelspec": {
      "display_name": "java (JJava/j!)",
      "language": "java",
      "name": "jbang-jjava"
    },
    "language_info": {
      "codemirror_mode": "java",
      "file_extension": ".jshell",
      "mimetype": "text/x-java-source",
      "name": "Java",
      "pygments_lexer": "java",
      "version": "17.0.16+8-Ubuntu-0ubuntu124.04.1"
    }
  },
  "nbformat": 4,
  "nbformat_minor": 5
}
